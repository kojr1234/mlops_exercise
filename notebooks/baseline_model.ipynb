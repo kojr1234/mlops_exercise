{
 "cells": [
  {
   "cell_type": "code",
   "execution_count": 121,
   "id": "b3a700f2",
   "metadata": {},
   "outputs": [],
   "source": [
    "import pandas as pd\n",
    "import numpy as np\n",
    "\n",
    "from feature_engine.encoding import WoEEncoder\n",
    "from feature_engine.imputation import (CategoricalImputer, \n",
    "                                       MeanMedianImputer)\n",
    "\n",
    "from sklearn.model_selection import train_test_split\n",
    "from sklearn.preprocessing import StandardScaler\n",
    "from sklearn.pipeline import Pipeline\n",
    "from sklearn.linear_model import LogisticRegression"
   ]
  },
  {
   "cell_type": "code",
   "execution_count": 7,
   "id": "7f909d76",
   "metadata": {},
   "outputs": [],
   "source": [
    "df_train = pd.read_csv('../dataset/train.csv')\n",
    "df_test = pd.read_csv('../dataset/test.csv')"
   ]
  },
  {
   "cell_type": "markdown",
   "id": "5d6388c8",
   "metadata": {},
   "source": [
    "* Data preprocessing\n",
    "* Linear model usage"
   ]
  },
  {
   "cell_type": "code",
   "execution_count": 126,
   "id": "64c3d4e1",
   "metadata": {},
   "outputs": [],
   "source": [
    "TARGET = 'Transported'\n",
    "\n",
    "FEATURES = [\n",
    "    'HomePlanet',\n",
    "    'CryoSleep',\n",
    "    'Destination',\n",
    "    'Age',\n",
    "    'VIP',\n",
    "    'RoomService',\n",
    "    'FoodCourt',\n",
    "    'ShoppingMall',\n",
    "    'Spa',\n",
    "    'VRDeck',\n",
    "    'Cabin'\n",
    "]\n",
    "\n",
    "NUMERICAL_VARS = [\n",
    "    'Age',\n",
    "    'RoomService',\n",
    "    'FoodCourt',\n",
    "    'ShoppingMall',\n",
    "    'Spa',\n",
    "    'VRDeck'\n",
    "]\n",
    "\n",
    "CATEGORICAL_VARS = [\n",
    "    'HomePlanet',\n",
    "    'Destination',\n",
    "    'Cabin',\n",
    "    'VIP',\n",
    "    'CryoSleep',\n",
    "    'CabinDeck',\n",
    "    'CabinSide'\n",
    "]\n",
    "\n",
    "NUM_MEAN_IMPUTE_VARS = [\n",
    "    'Age',\n",
    "    'RoomService',\n",
    "    'FoodCourt',\n",
    "    'ShoppingMall',\n",
    "    'Spa',\n",
    "    'VRDeck'\n",
    "]\n",
    "\n",
    "CAT_WOE_ENCODING = [\n",
    "    'HomePlanet',\n",
    "    'Destination',\n",
    "    'CabinDeck',\n",
    "    'CabinSide'\n",
    "]\n",
    "\n",
    "CAT_MISSING_IMPUTE_VARS = [\n",
    "    'Cabin',\n",
    "    'Destination',\n",
    "    'HomePlanet',\n",
    "]\n",
    "\n",
    "CAT_ARBITRARY_IMPUTE_VARS = [\n",
    "    'CryoSleep',\n",
    "    'VIP'\n",
    "]\n",
    "\n",
    "UNUSED_FIELDS = [\n",
    "    'PassengerId',\n",
    "    'Name'\n",
    "]"
   ]
  },
  {
   "cell_type": "code",
   "execution_count": 138,
   "id": "f4ec2506",
   "metadata": {},
   "outputs": [],
   "source": [
    "from sklearn.base import BaseEstimator, TransformerMixin\n",
    "\n",
    "class CabinPreprocess(BaseEstimator, TransformerMixin):\n",
    "    def __init__(self):\n",
    "        pass\n",
    "        \n",
    "    def fit(self, X, y=None):\n",
    "        return self\n",
    "        \n",
    "    def transform(self, X):\n",
    "        \n",
    "        def helper_na(x):\n",
    "            if x == 'NA':\n",
    "                return ['NA', 'NA', 'NA']\n",
    "            else:\n",
    "                return x.split('/')\n",
    "        \n",
    "        splitted_series = X['Cabin'].apply(helper_na)\n",
    "        X['CabinDeck'] = splitted_series.apply(lambda x: x[0])\n",
    "        X['CabinSide'] = splitted_series.apply(lambda x: x[2])\n",
    "        X.drop('Cabin', axis=1, inplace=True)\n",
    "        return X\n",
    "        "
   ]
  },
  {
   "cell_type": "code",
   "execution_count": 162,
   "id": "c32dc60c",
   "metadata": {},
   "outputs": [],
   "source": [
    "pipeline = Pipeline([\n",
    "    (\n",
    "        'CatMissingImputer', \n",
    "        CategoricalImputer(\n",
    "             fill_value='NA',\n",
    "             variables=CAT_MISSING_IMPUTE_VARS\n",
    "         )\n",
    "    ),\n",
    "    (\n",
    "        'CatMissingArbitraryImputer',\n",
    "        CategoricalImputer(\n",
    "            variables=CAT_ARBITRARY_IMPUTE_VARS,\n",
    "            fill_value=False,\n",
    "        )\n",
    "    ),\n",
    "    (\n",
    "        'CabinPreprocess',\n",
    "        CabinPreprocess()\n",
    "    ),\n",
    "    (\n",
    "        'NumMeanImputer',\n",
    "        MeanMedianImputer(\n",
    "             variables=NUM_MEAN_IMPUTE_VARS\n",
    "         )\n",
    "    ),\n",
    "    (\n",
    "        'CatWOEEncoder',\n",
    "        WoEEncoder(\n",
    "            variables=CAT_WOE_ENCODING\n",
    "        )\n",
    "    ),\n",
    "    (\n",
    "        'StandardScaler',\n",
    "        StandardScaler()\n",
    "    ),\n",
    "    (\n",
    "        'LogisticRegression',\n",
    "        LogisticRegression()\n",
    "    )\n",
    "])"
   ]
  },
  {
   "cell_type": "code",
   "execution_count": 163,
   "id": "ff4295ee",
   "metadata": {},
   "outputs": [],
   "source": [
    "X_, X, y_, y = train_test_split(df_train[FEATURES], df_train[TARGET])"
   ]
  },
  {
   "cell_type": "code",
   "execution_count": 164,
   "id": "d44490f7",
   "metadata": {},
   "outputs": [
    {
     "data": {
      "text/html": [
       "<style>#sk-container-id-7 {color: black;background-color: white;}#sk-container-id-7 pre{padding: 0;}#sk-container-id-7 div.sk-toggleable {background-color: white;}#sk-container-id-7 label.sk-toggleable__label {cursor: pointer;display: block;width: 100%;margin-bottom: 0;padding: 0.3em;box-sizing: border-box;text-align: center;}#sk-container-id-7 label.sk-toggleable__label-arrow:before {content: \"▸\";float: left;margin-right: 0.25em;color: #696969;}#sk-container-id-7 label.sk-toggleable__label-arrow:hover:before {color: black;}#sk-container-id-7 div.sk-estimator:hover label.sk-toggleable__label-arrow:before {color: black;}#sk-container-id-7 div.sk-toggleable__content {max-height: 0;max-width: 0;overflow: hidden;text-align: left;background-color: #f0f8ff;}#sk-container-id-7 div.sk-toggleable__content pre {margin: 0.2em;color: black;border-radius: 0.25em;background-color: #f0f8ff;}#sk-container-id-7 input.sk-toggleable__control:checked~div.sk-toggleable__content {max-height: 200px;max-width: 100%;overflow: auto;}#sk-container-id-7 input.sk-toggleable__control:checked~label.sk-toggleable__label-arrow:before {content: \"▾\";}#sk-container-id-7 div.sk-estimator input.sk-toggleable__control:checked~label.sk-toggleable__label {background-color: #d4ebff;}#sk-container-id-7 div.sk-label input.sk-toggleable__control:checked~label.sk-toggleable__label {background-color: #d4ebff;}#sk-container-id-7 input.sk-hidden--visually {border: 0;clip: rect(1px 1px 1px 1px);clip: rect(1px, 1px, 1px, 1px);height: 1px;margin: -1px;overflow: hidden;padding: 0;position: absolute;width: 1px;}#sk-container-id-7 div.sk-estimator {font-family: monospace;background-color: #f0f8ff;border: 1px dotted black;border-radius: 0.25em;box-sizing: border-box;margin-bottom: 0.5em;}#sk-container-id-7 div.sk-estimator:hover {background-color: #d4ebff;}#sk-container-id-7 div.sk-parallel-item::after {content: \"\";width: 100%;border-bottom: 1px solid gray;flex-grow: 1;}#sk-container-id-7 div.sk-label:hover label.sk-toggleable__label {background-color: #d4ebff;}#sk-container-id-7 div.sk-serial::before {content: \"\";position: absolute;border-left: 1px solid gray;box-sizing: border-box;top: 0;bottom: 0;left: 50%;z-index: 0;}#sk-container-id-7 div.sk-serial {display: flex;flex-direction: column;align-items: center;background-color: white;padding-right: 0.2em;padding-left: 0.2em;position: relative;}#sk-container-id-7 div.sk-item {position: relative;z-index: 1;}#sk-container-id-7 div.sk-parallel {display: flex;align-items: stretch;justify-content: center;background-color: white;position: relative;}#sk-container-id-7 div.sk-item::before, #sk-container-id-7 div.sk-parallel-item::before {content: \"\";position: absolute;border-left: 1px solid gray;box-sizing: border-box;top: 0;bottom: 0;left: 50%;z-index: -1;}#sk-container-id-7 div.sk-parallel-item {display: flex;flex-direction: column;z-index: 1;position: relative;background-color: white;}#sk-container-id-7 div.sk-parallel-item:first-child::after {align-self: flex-end;width: 50%;}#sk-container-id-7 div.sk-parallel-item:last-child::after {align-self: flex-start;width: 50%;}#sk-container-id-7 div.sk-parallel-item:only-child::after {width: 0;}#sk-container-id-7 div.sk-dashed-wrapped {border: 1px dashed gray;margin: 0 0.4em 0.5em 0.4em;box-sizing: border-box;padding-bottom: 0.4em;background-color: white;}#sk-container-id-7 div.sk-label label {font-family: monospace;font-weight: bold;display: inline-block;line-height: 1.2em;}#sk-container-id-7 div.sk-label-container {text-align: center;}#sk-container-id-7 div.sk-container {/* jupyter's `normalize.less` sets `[hidden] { display: none; }` but bootstrap.min.css set `[hidden] { display: none !important; }` so we also need the `!important` here to be able to override the default hidden behavior on the sphinx rendered scikit-learn.org. See: https://github.com/scikit-learn/scikit-learn/issues/21755 */display: inline-block !important;position: relative;}#sk-container-id-7 div.sk-text-repr-fallback {display: none;}</style><div id=\"sk-container-id-7\" class=\"sk-top-container\"><div class=\"sk-text-repr-fallback\"><pre>Pipeline(steps=[(&#x27;CatMissingImputer&#x27;,\n",
       "                 CategoricalImputer(fill_value=&#x27;NA&#x27;,\n",
       "                                    variables=[&#x27;Cabin&#x27;, &#x27;Destination&#x27;,\n",
       "                                               &#x27;HomePlanet&#x27;])),\n",
       "                (&#x27;CatMissingArbitraryImputer&#x27;,\n",
       "                 CategoricalImputer(fill_value=False,\n",
       "                                    variables=[&#x27;CryoSleep&#x27;, &#x27;VIP&#x27;])),\n",
       "                (&#x27;CabinPreprocess&#x27;, CabinPreprocess()),\n",
       "                (&#x27;NumMeanImputer&#x27;,\n",
       "                 MeanMedianImputer(variables=[&#x27;Age&#x27;, &#x27;RoomService&#x27;, &#x27;FoodCourt&#x27;,\n",
       "                                              &#x27;ShoppingMall&#x27;, &#x27;Spa&#x27;,\n",
       "                                              &#x27;VRDeck&#x27;])),\n",
       "                (&#x27;CatWOEEncoder&#x27;,\n",
       "                 WoEEncoder(variables=[&#x27;HomePlanet&#x27;, &#x27;Destination&#x27;, &#x27;CabinDeck&#x27;,\n",
       "                                       &#x27;CabinSide&#x27;])),\n",
       "                (&#x27;StandardScaler&#x27;, StandardScaler()),\n",
       "                (&#x27;LogisticRegression&#x27;, LogisticRegression())])</pre><b>In a Jupyter environment, please rerun this cell to show the HTML representation or trust the notebook. <br />On GitHub, the HTML representation is unable to render, please try loading this page with nbviewer.org.</b></div><div class=\"sk-container\" hidden><div class=\"sk-item sk-dashed-wrapped\"><div class=\"sk-label-container\"><div class=\"sk-label sk-toggleable\"><input class=\"sk-toggleable__control sk-hidden--visually\" id=\"sk-estimator-id-33\" type=\"checkbox\" ><label for=\"sk-estimator-id-33\" class=\"sk-toggleable__label sk-toggleable__label-arrow\">Pipeline</label><div class=\"sk-toggleable__content\"><pre>Pipeline(steps=[(&#x27;CatMissingImputer&#x27;,\n",
       "                 CategoricalImputer(fill_value=&#x27;NA&#x27;,\n",
       "                                    variables=[&#x27;Cabin&#x27;, &#x27;Destination&#x27;,\n",
       "                                               &#x27;HomePlanet&#x27;])),\n",
       "                (&#x27;CatMissingArbitraryImputer&#x27;,\n",
       "                 CategoricalImputer(fill_value=False,\n",
       "                                    variables=[&#x27;CryoSleep&#x27;, &#x27;VIP&#x27;])),\n",
       "                (&#x27;CabinPreprocess&#x27;, CabinPreprocess()),\n",
       "                (&#x27;NumMeanImputer&#x27;,\n",
       "                 MeanMedianImputer(variables=[&#x27;Age&#x27;, &#x27;RoomService&#x27;, &#x27;FoodCourt&#x27;,\n",
       "                                              &#x27;ShoppingMall&#x27;, &#x27;Spa&#x27;,\n",
       "                                              &#x27;VRDeck&#x27;])),\n",
       "                (&#x27;CatWOEEncoder&#x27;,\n",
       "                 WoEEncoder(variables=[&#x27;HomePlanet&#x27;, &#x27;Destination&#x27;, &#x27;CabinDeck&#x27;,\n",
       "                                       &#x27;CabinSide&#x27;])),\n",
       "                (&#x27;StandardScaler&#x27;, StandardScaler()),\n",
       "                (&#x27;LogisticRegression&#x27;, LogisticRegression())])</pre></div></div></div><div class=\"sk-serial\"><div class=\"sk-item\"><div class=\"sk-estimator sk-toggleable\"><input class=\"sk-toggleable__control sk-hidden--visually\" id=\"sk-estimator-id-34\" type=\"checkbox\" ><label for=\"sk-estimator-id-34\" class=\"sk-toggleable__label sk-toggleable__label-arrow\">CategoricalImputer</label><div class=\"sk-toggleable__content\"><pre>CategoricalImputer(fill_value=&#x27;NA&#x27;,\n",
       "                   variables=[&#x27;Cabin&#x27;, &#x27;Destination&#x27;, &#x27;HomePlanet&#x27;])</pre></div></div></div><div class=\"sk-item\"><div class=\"sk-estimator sk-toggleable\"><input class=\"sk-toggleable__control sk-hidden--visually\" id=\"sk-estimator-id-35\" type=\"checkbox\" ><label for=\"sk-estimator-id-35\" class=\"sk-toggleable__label sk-toggleable__label-arrow\">CategoricalImputer</label><div class=\"sk-toggleable__content\"><pre>CategoricalImputer(fill_value=False, variables=[&#x27;CryoSleep&#x27;, &#x27;VIP&#x27;])</pre></div></div></div><div class=\"sk-item\"><div class=\"sk-estimator sk-toggleable\"><input class=\"sk-toggleable__control sk-hidden--visually\" id=\"sk-estimator-id-36\" type=\"checkbox\" ><label for=\"sk-estimator-id-36\" class=\"sk-toggleable__label sk-toggleable__label-arrow\">CabinPreprocess</label><div class=\"sk-toggleable__content\"><pre>CabinPreprocess()</pre></div></div></div><div class=\"sk-item\"><div class=\"sk-estimator sk-toggleable\"><input class=\"sk-toggleable__control sk-hidden--visually\" id=\"sk-estimator-id-37\" type=\"checkbox\" ><label for=\"sk-estimator-id-37\" class=\"sk-toggleable__label sk-toggleable__label-arrow\">MeanMedianImputer</label><div class=\"sk-toggleable__content\"><pre>MeanMedianImputer(variables=[&#x27;Age&#x27;, &#x27;RoomService&#x27;, &#x27;FoodCourt&#x27;, &#x27;ShoppingMall&#x27;,\n",
       "                             &#x27;Spa&#x27;, &#x27;VRDeck&#x27;])</pre></div></div></div><div class=\"sk-item\"><div class=\"sk-estimator sk-toggleable\"><input class=\"sk-toggleable__control sk-hidden--visually\" id=\"sk-estimator-id-38\" type=\"checkbox\" ><label for=\"sk-estimator-id-38\" class=\"sk-toggleable__label sk-toggleable__label-arrow\">WoEEncoder</label><div class=\"sk-toggleable__content\"><pre>WoEEncoder(variables=[&#x27;HomePlanet&#x27;, &#x27;Destination&#x27;, &#x27;CabinDeck&#x27;, &#x27;CabinSide&#x27;])</pre></div></div></div><div class=\"sk-item\"><div class=\"sk-estimator sk-toggleable\"><input class=\"sk-toggleable__control sk-hidden--visually\" id=\"sk-estimator-id-39\" type=\"checkbox\" ><label for=\"sk-estimator-id-39\" class=\"sk-toggleable__label sk-toggleable__label-arrow\">StandardScaler</label><div class=\"sk-toggleable__content\"><pre>StandardScaler()</pre></div></div></div><div class=\"sk-item\"><div class=\"sk-estimator sk-toggleable\"><input class=\"sk-toggleable__control sk-hidden--visually\" id=\"sk-estimator-id-40\" type=\"checkbox\" ><label for=\"sk-estimator-id-40\" class=\"sk-toggleable__label sk-toggleable__label-arrow\">LogisticRegression</label><div class=\"sk-toggleable__content\"><pre>LogisticRegression()</pre></div></div></div></div></div></div></div>"
      ],
      "text/plain": [
       "Pipeline(steps=[('CatMissingImputer',\n",
       "                 CategoricalImputer(fill_value='NA',\n",
       "                                    variables=['Cabin', 'Destination',\n",
       "                                               'HomePlanet'])),\n",
       "                ('CatMissingArbitraryImputer',\n",
       "                 CategoricalImputer(fill_value=False,\n",
       "                                    variables=['CryoSleep', 'VIP'])),\n",
       "                ('CabinPreprocess', CabinPreprocess()),\n",
       "                ('NumMeanImputer',\n",
       "                 MeanMedianImputer(variables=['Age', 'RoomService', 'FoodCourt',\n",
       "                                              'ShoppingMall', 'Spa',\n",
       "                                              'VRDeck'])),\n",
       "                ('CatWOEEncoder',\n",
       "                 WoEEncoder(variables=['HomePlanet', 'Destination', 'CabinDeck',\n",
       "                                       'CabinSide'])),\n",
       "                ('StandardScaler', StandardScaler()),\n",
       "                ('LogisticRegression', LogisticRegression())])"
      ]
     },
     "execution_count": 164,
     "metadata": {},
     "output_type": "execute_result"
    }
   ],
   "source": [
    "pipeline.fit(X_, y_)"
   ]
  },
  {
   "cell_type": "code",
   "execution_count": 165,
   "id": "6c64ef85",
   "metadata": {},
   "outputs": [],
   "source": [
    "from sklearn.metrics import accuracy_score"
   ]
  },
  {
   "cell_type": "code",
   "execution_count": 167,
   "id": "486fb246",
   "metadata": {},
   "outputs": [
    {
     "data": {
      "text/plain": [
       "0.795768169273229"
      ]
     },
     "execution_count": 167,
     "metadata": {},
     "output_type": "execute_result"
    }
   ],
   "source": [
    "accuracy_score(y, pipeline.predict(X))"
   ]
  },
  {
   "cell_type": "code",
   "execution_count": 161,
   "id": "948b01d0",
   "metadata": {},
   "outputs": [
    {
     "data": {
      "text/plain": [
       "array([ True, False,  True, ...,  True,  True,  True])"
      ]
     },
     "execution_count": 161,
     "metadata": {},
     "output_type": "execute_result"
    }
   ],
   "source": [
    "pipeline.predict(df_test[FEATURES])"
   ]
  }
 ],
 "metadata": {
  "kernelspec": {
   "display_name": "Python 3 (ipykernel)",
   "language": "python",
   "name": "python3"
  },
  "language_info": {
   "codemirror_mode": {
    "name": "ipython",
    "version": 3
   },
   "file_extension": ".py",
   "mimetype": "text/x-python",
   "name": "python",
   "nbconvert_exporter": "python",
   "pygments_lexer": "ipython3",
   "version": "3.9.12"
  }
 },
 "nbformat": 4,
 "nbformat_minor": 5
}
