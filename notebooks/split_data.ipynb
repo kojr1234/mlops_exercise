{
 "cells": [
  {
   "cell_type": "code",
   "execution_count": 6,
   "id": "5b233cd3",
   "metadata": {},
   "outputs": [],
   "source": [
    "import pandas as pd\n",
    "from sklearn.model_selection import train_test_split"
   ]
  },
  {
   "cell_type": "code",
   "execution_count": 7,
   "id": "1fb30a1f",
   "metadata": {},
   "outputs": [],
   "source": [
    "df = pd.read_csv('../classifier_model/dataset/train.csv')"
   ]
  },
  {
   "cell_type": "code",
   "execution_count": 8,
   "id": "cda9381b",
   "metadata": {},
   "outputs": [],
   "source": [
    "X = df[[c for c in df.columns if c != 'Transported']]\n",
    "y = df['Transported']"
   ]
  },
  {
   "cell_type": "code",
   "execution_count": 9,
   "id": "c0b7ab3b",
   "metadata": {},
   "outputs": [],
   "source": [
    "X_train, X_test, y_train, y_test = train_test_split(X, y, test_size=.1)"
   ]
  },
  {
   "cell_type": "code",
   "execution_count": 10,
   "id": "bfe23ba8",
   "metadata": {},
   "outputs": [],
   "source": [
    "X_train['Transported'] = y_train\n",
    "X_test['Transported'] = y_test"
   ]
  },
  {
   "cell_type": "code",
   "execution_count": 11,
   "id": "a6692c3c",
   "metadata": {},
   "outputs": [],
   "source": [
    "X_train.to_csv('../classifier_model/dataset/train.csv', index=False)\n",
    "X_test.to_csv('../classifier_model/dataset/test.csv', index=False)"
   ]
  }
 ],
 "metadata": {
  "kernelspec": {
   "display_name": "Python 3 (ipykernel)",
   "language": "python",
   "name": "python3"
  },
  "language_info": {
   "codemirror_mode": {
    "name": "ipython",
    "version": 3
   },
   "file_extension": ".py",
   "mimetype": "text/x-python",
   "name": "python",
   "nbconvert_exporter": "python",
   "pygments_lexer": "ipython3",
   "version": "3.9.12"
  }
 },
 "nbformat": 4,
 "nbformat_minor": 5
}
